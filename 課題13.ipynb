{
  "nbformat": 4,
  "nbformat_minor": 0,
  "metadata": {
    "colab": {
      "provenance": [],
      "authorship_tag": "ABX9TyPCWVpJSzT4UNXkTBNB0hLf",
      "include_colab_link": true
    },
    "kernelspec": {
      "name": "python3",
      "display_name": "Python 3"
    },
    "language_info": {
      "name": "python"
    }
  },
  "cells": [
    {
      "cell_type": "markdown",
      "metadata": {
        "id": "view-in-github",
        "colab_type": "text"
      },
      "source": [
        "<a href=\"https://colab.research.google.com/github/sosuke-p/kadai_013/blob/main/%E8%AA%B2%E9%A1%8C13.ipynb\" target=\"_parent\"><img src=\"https://colab.research.google.com/assets/colab-badge.svg\" alt=\"Open In Colab\"/></a>"
      ]
    },
    {
      "cell_type": "code",
      "execution_count": 5,
      "metadata": {
        "colab": {
          "base_uri": "https://localhost:8080/"
        },
        "id": "tUsnGWPS4X61",
        "outputId": "dba225bf-7fcd-4929-c9c9-af47d0be53a4"
      },
      "outputs": [
        {
          "output_type": "stream",
          "name": "stdout",
          "text": [
            "1100.0円\n"
          ]
        }
      ],
      "source": [
        "#商品を購入して、消費税を加えた計算結果を返す関数を記述してください。\n",
        "#第1引数に商品の金額、第2引数に消費税（10%）を設定できるようにしてください。\n",
        "\n",
        "def add_two_arguments(price, tax):\n",
        "    # 与えた引数priceに引数taxをかけた結果を、変数totalに代入する\n",
        "    ctax = tax * price\n",
        "    total = price + ctax\n",
        "\n",
        "    # 変数$totalの値を出力する\n",
        "    print(f\"{total}円\")\n",
        "\n",
        "# 関数を呼び出し、引数として購入金額と消費税を入力\n",
        "#消費税10%を0.1で設定\n",
        "add_two_arguments(1000, 0.1)"
      ]
    }
  ]
}